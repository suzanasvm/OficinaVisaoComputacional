{
  "nbformat": 4,
  "nbformat_minor": 0,
  "metadata": {
    "colab": {
      "provenance": []
    },
    "kernelspec": {
      "name": "python3",
      "display_name": "Python 3"
    },
    "language_info": {
      "name": "python"
    }
  },
  "cells": [
    {
      "cell_type": "code",
      "source": [
        "#0: Importar bibliotecas\n"
      ],
      "metadata": {
        "id": "XU_n63qsH7zv"
      },
      "execution_count": 1,
      "outputs": []
    },
    {
      "cell_type": "code",
      "source": [
        "#1: Faça upload da sua imagem\n",
        "\n",
        "#2: Defina o nome da sua imagem (escreva igualzinho o nome do arquivo)\n",
        "\n",
        "\n",
        "#3: Crie a variavel imagem\n"
      ],
      "metadata": {
        "id": "m7txrr65IDfJ"
      },
      "execution_count": 2,
      "outputs": []
    },
    {
      "cell_type": "code",
      "source": [
        "#4: Faça um print da imagem\n"
      ],
      "metadata": {
        "id": "3R8znN9VI3Xb"
      },
      "execution_count": 3,
      "outputs": []
    },
    {
      "cell_type": "code",
      "source": [
        "#5 Exiba a imagem\n"
      ],
      "metadata": {
        "id": "2touRSL3IXe-"
      },
      "execution_count": 4,
      "outputs": []
    },
    {
      "cell_type": "code",
      "source": [
        "#6 Alternando os espaço de cores para RGB\n"
      ],
      "metadata": {
        "id": "W14ZVTRIJ0Pf"
      },
      "execution_count": 5,
      "outputs": []
    },
    {
      "cell_type": "code",
      "source": [
        "#7 Exibindo a imagem\n",
        "\n"
      ],
      "metadata": {
        "id": "Hgchk7UUJ2EO"
      },
      "execution_count": 6,
      "outputs": []
    },
    {
      "cell_type": "code",
      "source": [
        "#8 Observando características\n"
      ],
      "metadata": {
        "id": "rkDmKHmb3AMN"
      },
      "execution_count": 7,
      "outputs": []
    },
    {
      "cell_type": "code",
      "source": [
        "#9 Aplicando escala de cinza\n"
      ],
      "metadata": {
        "id": "L76RT39O3Ca3"
      },
      "execution_count": 8,
      "outputs": []
    },
    {
      "cell_type": "code",
      "source": [
        "#10 Aplicando escala de cinza\n"
      ],
      "metadata": {
        "id": "nb-IO7O73dtc"
      },
      "execution_count": 9,
      "outputs": []
    },
    {
      "cell_type": "code",
      "source": [
        "#11 Visualizando imagem\n"
      ],
      "metadata": {
        "id": "0CAtzjXU3GeA"
      },
      "execution_count": 10,
      "outputs": []
    },
    {
      "cell_type": "code",
      "source": [
        "#12 Definindo Região de Interesse\n",
        "\n",
        "\n",
        "#13 Exibindo a imagem\n"
      ],
      "metadata": {
        "id": "NvBaDa_b4PHs"
      },
      "execution_count": 11,
      "outputs": []
    }
  ]
}