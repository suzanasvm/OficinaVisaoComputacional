{
  "nbformat": 4,
  "nbformat_minor": 0,
  "metadata": {
    "colab": {
      "provenance": []
    },
    "kernelspec": {
      "name": "python3",
      "display_name": "Python 3"
    },
    "language_info": {
      "name": "python"
    }
  },
  "cells": [
    {
      "cell_type": "code",
      "execution_count": 1,
      "metadata": {
        "id": "_YHcj68s_ndD"
      },
      "outputs": [],
      "source": [
        "#0: Importar bibliotecas\n"
      ]
    },
    {
      "cell_type": "code",
      "source": [
        "#1: Faça upload da sua imagem\n",
        "\n",
        "#2: Defina o nome da sua imagem (escreva igualzinho o nome do arquivo)\n",
        "\n",
        "#3: Crie a variavel imagem\n",
        "\n",
        "\n",
        "#4 Alternando a ordem de canais para RGB\n",
        "\n",
        "\n",
        "#5 Exibindo a imagem\n"
      ],
      "metadata": {
        "id": "S6qVMk_7ADnD"
      },
      "execution_count": 2,
      "outputs": []
    },
    {
      "cell_type": "code",
      "source": [
        "#6 Deixando a imagem em escala de cinza\n"
      ],
      "metadata": {
        "id": "zmsh3TojAfFO"
      },
      "execution_count": 3,
      "outputs": []
    },
    {
      "cell_type": "code",
      "source": [
        "#7 Fazendo upload do classificador\n",
        "\n",
        "#8 Criando variavel para armazenar o classificador\n"
      ],
      "metadata": {
        "id": "954cJIfLAtCY"
      },
      "execution_count": 4,
      "outputs": []
    },
    {
      "cell_type": "code",
      "source": [
        "#9 passamos a imagem em escala de cinza para o classificador\n"
      ],
      "metadata": {
        "id": "2yY_eAgdBFjw"
      },
      "execution_count": 5,
      "outputs": []
    },
    {
      "cell_type": "code",
      "source": [
        "#10 Vemos quantas faces ele encontrou\n"
      ],
      "metadata": {
        "id": "v_Xal3UoBbxt"
      },
      "execution_count": 6,
      "outputs": []
    },
    {
      "cell_type": "code",
      "source": [
        "#11 Vai criando o retangulo em cada imagem encontrada\n"
      ],
      "metadata": {
        "id": "dOxLOhl2BvCC"
      },
      "execution_count": 7,
      "outputs": []
    },
    {
      "cell_type": "code",
      "source": [
        "#12 Altere o parametro de sensibilidade, para ele encontrar apenas 6 rostos"
      ],
      "metadata": {
        "id": "ic411GVIHKI3"
      },
      "execution_count": 8,
      "outputs": []
    },
    {
      "cell_type": "code",
      "source": [
        "#13 Vamos criar um detector de sorrisos: faça upload do classificador\n",
        "\n",
        "\n"
      ],
      "metadata": {
        "id": "HS4gDab6eUVa"
      },
      "execution_count": 9,
      "outputs": []
    },
    {
      "cell_type": "code",
      "source": [
        "#14 Vamos rodar o classificador\n",
        "\n"
      ],
      "metadata": {
        "id": "ey8D-UvZeqkh"
      },
      "execution_count": 10,
      "outputs": []
    },
    {
      "cell_type": "markdown",
      "source": [],
      "metadata": {
        "id": "Xav1YmIAf1x9"
      }
    }
  ]
}